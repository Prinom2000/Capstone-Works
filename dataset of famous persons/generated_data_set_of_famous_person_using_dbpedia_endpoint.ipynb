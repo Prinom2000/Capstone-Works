{
  "nbformat": 4,
  "nbformat_minor": 0,
  "metadata": {
    "colab": {
      "provenance": []
    },
    "kernelspec": {
      "name": "python3",
      "display_name": "Python 3"
    },
    "language_info": {
      "name": "python"
    }
  },
  "cells": [
    {
      "cell_type": "code",
      "execution_count": null,
      "metadata": {
        "colab": {
          "base_uri": "https://localhost:8080/"
        },
        "id": "TgCgEHNT7imZ",
        "outputId": "01a26b8c-5d42-497b-b054-fd079a1d13f9"
      },
      "outputs": [
        {
          "output_type": "stream",
          "name": "stdout",
          "text": [
            "Collecting SPARQLWrapper\n",
            "  Downloading SPARQLWrapper-2.0.0-py3-none-any.whl.metadata (2.0 kB)\n",
            "Collecting rdflib>=6.1.1 (from SPARQLWrapper)\n",
            "  Downloading rdflib-7.1.0-py3-none-any.whl.metadata (11 kB)\n",
            "Collecting html5lib-modern<2.0,>=1.2 (from rdflib>=6.1.1->SPARQLWrapper)\n",
            "  Downloading html5lib_modern-1.2-py2.py3-none-any.whl.metadata (7.8 kB)\n",
            "Collecting isodate<1.0.0,>=0.7.2 (from rdflib>=6.1.1->SPARQLWrapper)\n",
            "  Downloading isodate-0.7.2-py3-none-any.whl.metadata (11 kB)\n",
            "Requirement already satisfied: pyparsing<4,>=2.1.0 in /usr/local/lib/python3.10/dist-packages (from rdflib>=6.1.1->SPARQLWrapper) (3.2.0)\n",
            "Downloading SPARQLWrapper-2.0.0-py3-none-any.whl (28 kB)\n",
            "Downloading rdflib-7.1.0-py3-none-any.whl (562 kB)\n",
            "\u001b[2K   \u001b[90m━━━━━━━━━━━━━━━━━━━━━━━━━━━━━━━━━━━━━━━━\u001b[0m \u001b[32m562.1/562.1 kB\u001b[0m \u001b[31m17.2 MB/s\u001b[0m eta \u001b[36m0:00:00\u001b[0m\n",
            "\u001b[?25hDownloading html5lib_modern-1.2-py2.py3-none-any.whl (116 kB)\n",
            "\u001b[2K   \u001b[90m━━━━━━━━━━━━━━━━━━━━━━━━━━━━━━━━━━━━━━━━\u001b[0m \u001b[32m116.2/116.2 kB\u001b[0m \u001b[31m9.4 MB/s\u001b[0m eta \u001b[36m0:00:00\u001b[0m\n",
            "\u001b[?25hDownloading isodate-0.7.2-py3-none-any.whl (22 kB)\n",
            "Installing collected packages: isodate, html5lib-modern, rdflib, SPARQLWrapper\n",
            "Successfully installed SPARQLWrapper-2.0.0 html5lib-modern-1.2 isodate-0.7.2 rdflib-7.1.0\n"
          ]
        }
      ],
      "source": [
        "!pip install SPARQLWrapper\n"
      ]
    },
    {
      "cell_type": "code",
      "source": [
        "from SPARQLWrapper import SPARQLWrapper, JSON\n",
        "import pandas as pd"
      ],
      "metadata": {
        "id": "PUt6_TuZ8QLj"
      },
      "execution_count": null,
      "outputs": []
    },
    {
      "cell_type": "code",
      "source": [
        "\n",
        "# Set up the DBpedia SPARQL endpoint\n",
        "sparql = SPARQLWrapper(\"http://dbpedia.org/sparql\")\n",
        "\n",
        "# Define a SPARQL query to get data for famous people\n",
        "# This example retrieves name, birth year, occupation, country, field, and notable achievements for each person\n",
        "sparql.setQuery(\"\"\"\n",
        "    SELECT ?person ?name ?birthYear ?occupation ?country ?field ?notableAchievement\n",
        "    WHERE {\n",
        "        ?person a dbo:Person .\n",
        "        ?person foaf:name ?name .\n",
        "        OPTIONAL { ?person dbo:birthYear ?birthYear . }\n",
        "        OPTIONAL { ?person dbo:occupation ?occupation . }\n",
        "        OPTIONAL { ?person dbo:birthPlace ?birthPlace . ?birthPlace dbo:country ?country . }\n",
        "        OPTIONAL { ?person dbo:field ?field . }\n",
        "        OPTIONAL { ?person dbp:notableAchievement ?notableAchievement . }\n",
        "        FILTER (lang(?name) = 'en')\n",
        "    }\n",
        "    LIMIT 100  # Adjust the limit for more data\n",
        "\"\"\")\n",
        "\n",
        "sparql.setReturnFormat(JSON)\n",
        "results = sparql.query().convert()\n",
        "\n",
        "# Process the results and create a structured dataset\n",
        "data = []\n",
        "for result in results[\"results\"][\"bindings\"]:\n",
        "    person_data = {\n",
        "        \"Link\": result[\"person\"][\"value\"],\n",
        "        \"Name\": result[\"name\"][\"value\"],\n",
        "        \"Birth Year\": result[\"birthYear\"][\"value\"] if \"birthYear\" in result else None,\n",
        "        \"Occupation\": result[\"occupation\"][\"value\"] if \"occupation\" in result else None,\n",
        "        \"Country\": result[\"country\"][\"value\"] if \"country\" in result else None,\n",
        "        \"Field\": result[\"field\"][\"value\"] if \"field\" in result else None,\n",
        "        \"Notable Achievement\": result[\"notableAchievement\"][\"value\"] if \"notableAchievement\" in result else None\n",
        "    }\n",
        "    data.append(person_data)\n",
        "\n",
        "# Convert to a DataFrame\n",
        "df = pd.DataFrame(data)\n",
        "\n",
        "# Save to CSV file\n",
        "df.to_csv(\"famous_persons_dbpedia.csv\", index=False)\n",
        "print(\"Dataset saved as famous_persons_dbpedia.csv\")\n",
        "\n",
        "# Display the first few rows of the DataFrame\n",
        "print(df.head())\n"
      ],
      "metadata": {
        "colab": {
          "base_uri": "https://localhost:8080/"
        },
        "id": "SSoxBXoX8W6k",
        "outputId": "5aa50866-07b1-4fdd-8c96-6918bf0ed195"
      },
      "execution_count": null,
      "outputs": [
        {
          "output_type": "stream",
          "name": "stdout",
          "text": [
            "Dataset saved as famous_persons_dbpedia.csv\n",
            "                                        Link    Name Birth Year  \\\n",
            "0  http://dbpedia.org/resource/Cabral_Ibacka  Cabral       1977   \n",
            "1  http://dbpedia.org/resource/Cabral_Ibacka  Cabral       1977   \n",
            "2  http://dbpedia.org/resource/Cabral_Ibacka  Cabral       1977   \n",
            "3  http://dbpedia.org/resource/Cabral_Ibacka  Cabral       1977   \n",
            "4  http://dbpedia.org/resource/Cabral_Ibacka  Cabral       1977   \n",
            "\n",
            "                                          Occupation  \\\n",
            "0  http://dbpedia.org/resource/Cabral_Ibacka__Per...   \n",
            "1  http://dbpedia.org/resource/Television_persona...   \n",
            "2                  http://dbpedia.org/resource/Actor   \n",
            "3         http://dbpedia.org/resource/Philanthropist   \n",
            "4           http://dbpedia.org/resource/TV_presenter   \n",
            "\n",
            "                               Country Field Notable Achievement  \n",
            "0  http://dbpedia.org/resource/Romania  None                None  \n",
            "1  http://dbpedia.org/resource/Romania  None                None  \n",
            "2  http://dbpedia.org/resource/Romania  None                None  \n",
            "3  http://dbpedia.org/resource/Romania  None                None  \n",
            "4  http://dbpedia.org/resource/Romania  None                None  \n"
          ]
        }
      ]
    },
    {
      "cell_type": "code",
      "source": [
        "# Set up variables for pagination\n",
        "rows_per_query = 1000\n",
        "total_records = 10000  # Adjust this to the approximate number of records you want\n",
        "data = []\n",
        "\n",
        "for offset in range(0, total_records, rows_per_query):\n",
        "    # Update query with limit and offset for pagination\n",
        "    sparql.setQuery(f\"\"\"\n",
        "        SELECT ?person ?name ?birthYear ?occupation ?country ?field ?notableAchievement\n",
        "        WHERE {{\n",
        "            ?person a dbo:Person .\n",
        "            ?person foaf:name ?name .\n",
        "            OPTIONAL {{ ?person dbo:birthYear ?birthYear . }}\n",
        "            OPTIONAL {{ ?person dbo:occupation ?occupation . }}\n",
        "            OPTIONAL {{ ?person dbo:birthPlace ?birthPlace . ?birthPlace dbo:country ?country . }}\n",
        "            OPTIONAL {{ ?person dbo:field ?field . }}\n",
        "            OPTIONAL {{ ?person dbp:notableAchievement ?notableAchievement . }}\n",
        "            FILTER (lang(?name) = 'en')\n",
        "        }}\n",
        "        LIMIT {rows_per_query} OFFSET {offset}\n",
        "    \"\"\")\n",
        "\n",
        "    sparql.setReturnFormat(JSON)\n",
        "    results = sparql.query().convert()\n",
        "\n",
        "    # Process results as before\n",
        "    for result in results[\"results\"][\"bindings\"]:\n",
        "        person_data = {\n",
        "            \"Link\": result[\"person\"][\"value\"],\n",
        "            \"Name\": result[\"name\"][\"value\"],\n",
        "            \"Birth Year\": result[\"birthYear\"][\"value\"] if \"birthYear\" in result else None,\n",
        "            \"Occupation\": result[\"occupation\"][\"value\"] if \"occupation\" in result else None,\n",
        "            \"Country\": result[\"country\"][\"value\"] if \"country\" in result else None,\n",
        "            \"Field\": result[\"field\"][\"value\"] if \"field\" in result else None,\n",
        "            \"Notable Achievement\": result[\"notableAchievement\"][\"value\"] if \"notableAchievement\" in result else None\n",
        "        }\n",
        "        data.append(person_data)\n",
        "\n",
        "# Convert to a DataFrame and save as before\n",
        "df = pd.DataFrame(data)\n",
        "df.to_csv(\"famous_persons_dbpedia_large.csv\", index=False)\n",
        "print(\"Large dataset saved as famous_persons_dbpedia_large.csv\")\n",
        "\n"
      ],
      "metadata": {
        "colab": {
          "base_uri": "https://localhost:8080/"
        },
        "id": "BEd021OQ9Hrh",
        "outputId": "05d3705a-608e-4cc9-ae47-1318d7b5ae7e"
      },
      "execution_count": null,
      "outputs": [
        {
          "output_type": "stream",
          "name": "stdout",
          "text": [
            "Large dataset saved as famous_persons_dbpedia_large.csv\n"
          ]
        }
      ]
    },
    {
      "cell_type": "code",
      "source": [
        "from google.colab import files\n",
        "files.download(\"famous_persons_dbpedia.csv\")\n"
      ],
      "metadata": {
        "colab": {
          "base_uri": "https://localhost:8080/",
          "height": 17
        },
        "id": "DKRyuZV-9nFG",
        "outputId": "20c960b7-c395-4a2b-a19f-4d43897d8fff"
      },
      "execution_count": null,
      "outputs": [
        {
          "output_type": "display_data",
          "data": {
            "text/plain": [
              "<IPython.core.display.Javascript object>"
            ],
            "application/javascript": [
              "\n",
              "    async function download(id, filename, size) {\n",
              "      if (!google.colab.kernel.accessAllowed) {\n",
              "        return;\n",
              "      }\n",
              "      const div = document.createElement('div');\n",
              "      const label = document.createElement('label');\n",
              "      label.textContent = `Downloading \"${filename}\": `;\n",
              "      div.appendChild(label);\n",
              "      const progress = document.createElement('progress');\n",
              "      progress.max = size;\n",
              "      div.appendChild(progress);\n",
              "      document.body.appendChild(div);\n",
              "\n",
              "      const buffers = [];\n",
              "      let downloaded = 0;\n",
              "\n",
              "      const channel = await google.colab.kernel.comms.open(id);\n",
              "      // Send a message to notify the kernel that we're ready.\n",
              "      channel.send({})\n",
              "\n",
              "      for await (const message of channel.messages) {\n",
              "        // Send a message to notify the kernel that we're ready.\n",
              "        channel.send({})\n",
              "        if (message.buffers) {\n",
              "          for (const buffer of message.buffers) {\n",
              "            buffers.push(buffer);\n",
              "            downloaded += buffer.byteLength;\n",
              "            progress.value = downloaded;\n",
              "          }\n",
              "        }\n",
              "      }\n",
              "      const blob = new Blob(buffers, {type: 'application/binary'});\n",
              "      const a = document.createElement('a');\n",
              "      a.href = window.URL.createObjectURL(blob);\n",
              "      a.download = filename;\n",
              "      div.appendChild(a);\n",
              "      a.click();\n",
              "      div.remove();\n",
              "    }\n",
              "  "
            ]
          },
          "metadata": {}
        },
        {
          "output_type": "display_data",
          "data": {
            "text/plain": [
              "<IPython.core.display.Javascript object>"
            ],
            "application/javascript": [
              "download(\"download_9c25b3e1-6c82-4845-9c03-3fc3524fb794\", \"famous_persons_dbpedia.csv\", 15755)"
            ]
          },
          "metadata": {}
        }
      ]
    },
    {
      "cell_type": "code",
      "source": [
        "# Set up variables for pagination\n",
        "rows_per_query = 1000\n",
        "total_records = 100000  # Adjust this to the approximate number of records you want\n",
        "data = []\n",
        "\n",
        "for offset in range(0, total_records, rows_per_query):\n",
        "    # Update query with limit and offset for pagination\n",
        "    sparql.setQuery(f\"\"\"\n",
        "        SELECT ?person ?name ?birthYear ?occupation ?country ?field ?notableAchievement\n",
        "        WHERE {{\n",
        "            ?person a dbo:Person .\n",
        "            ?person foaf:name ?name .\n",
        "            OPTIONAL {{ ?person dbo:birthYear ?birthYear . }}\n",
        "            OPTIONAL {{ ?person dbo:occupation ?occupation . }}\n",
        "            OPTIONAL {{ ?person dbo:birthPlace ?birthPlace . ?birthPlace dbo:country ?country . }}\n",
        "            OPTIONAL {{ ?person dbo:field ?field . }}\n",
        "            OPTIONAL {{ ?person dbp:notableAchievement ?notableAchievement . }}\n",
        "            FILTER (lang(?name) = 'en')\n",
        "        }}\n",
        "        LIMIT {rows_per_query} OFFSET {offset}\n",
        "    \"\"\")\n",
        "\n",
        "    sparql.setReturnFormat(JSON)\n",
        "    results = sparql.query().convert()\n",
        "\n",
        "    # Process results as before\n",
        "    for result in results[\"results\"][\"bindings\"]:\n",
        "        person_data = {\n",
        "            \"Link\": result[\"person\"][\"value\"],\n",
        "            \"Name\": result[\"name\"][\"value\"],\n",
        "            \"Birth Year\": result[\"birthYear\"][\"value\"] if \"birthYear\" in result else None,\n",
        "            \"Occupation\": result[\"occupation\"][\"value\"] if \"occupation\" in result else None,\n",
        "            \"Country\": result[\"country\"][\"value\"] if \"country\" in result else None,\n",
        "            \"Field\": result[\"field\"][\"value\"] if \"field\" in result else None,\n",
        "            \"Notable Achievement\": result[\"notableAchievement\"][\"value\"] if \"notableAchievement\" in result else None\n",
        "        }\n",
        "        data.append(person_data)\n",
        "\n",
        "# Convert to a DataFrame and save as before\n",
        "df = pd.DataFrame(data)\n",
        "df.to_csv(\"famous_persons_dbpedia_large.csv\", index=False)\n",
        "print(\"Large dataset saved as famous_persons_dbpedia_large.csv\")\n",
        "\n"
      ],
      "metadata": {
        "colab": {
          "base_uri": "https://localhost:8080/"
        },
        "id": "Ee1eXJHk9vni",
        "outputId": "c54896b4-69be-4775-cd00-53f2c932b58a"
      },
      "execution_count": null,
      "outputs": [
        {
          "output_type": "stream",
          "name": "stdout",
          "text": [
            "Large dataset saved as famous_persons_dbpedia_large.csv\n"
          ]
        }
      ]
    },
    {
      "cell_type": "code",
      "source": [],
      "metadata": {
        "id": "UgNxaVAmAliA"
      },
      "execution_count": null,
      "outputs": []
    }
  ]
}